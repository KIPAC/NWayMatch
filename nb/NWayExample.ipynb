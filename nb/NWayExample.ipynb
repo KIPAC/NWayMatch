{
 "cells": [
  {
   "cell_type": "markdown",
   "id": "c39d1178",
   "metadata": {},
   "source": [
    "### Example of using NWayMatch\n",
    "\n",
    "MultiMatch is the current default Multi-catalog matcher in the Rubin DM stack.  It performs a series\n",
    "of two-way catalog matches, updating the reference catalog as it goes.\n",
    "\n",
    "NWayMatch is a simple proof-of-concept for multi-catalog matching.\n",
    "Rather than do a series of 2-way matches, it clusters sources and then resolves\n",
    "the cluster membership to ensure that each input catalog only contributes at most\n",
    "one source to any given \"object\".\n",
    "\n",
    "This example assumes that you:\n",
    "\n",
    "    1. Have downloaded the data here:  https://lsst.ncsa.illinois.edu/~yusra/nway-matcher/\n",
    "    2. Are running from the directory you download the data into.\n",
    "    3. Have run MultiMatch on those data for comparison (using multiMatch.py to generate matchCat.fits)"
   ]
  },
  {
   "cell_type": "code",
   "execution_count": 1,
   "id": "82931de3",
   "metadata": {},
   "outputs": [],
   "source": [
    "%matplotlib inline\n",
    "import matplotlib.pyplot as plt"
   ]
  },
  {
   "cell_type": "code",
   "execution_count": 2,
   "id": "ec4aff3d",
   "metadata": {},
   "outputs": [],
   "source": [
    "import glob\n",
    "import os\n",
    "import numpy as np\n",
    "from nway import NWayMatch"
   ]
  },
  {
   "cell_type": "markdown",
   "id": "4dbe80c9",
   "metadata": {},
   "source": [
    "### Define the inputs and the parameters for the map used to cluster the sources"
   ]
  },
  {
   "cell_type": "code",
   "execution_count": 3,
   "id": "882c072e",
   "metadata": {},
   "outputs": [],
   "source": [
    "DATADIR = \".\"\n",
    "SOURCE_TABLEFILES = glob.glob(os.path.join(DATADIR, \"sourceTable-00*.parq\"))\n",
    "VISIT_IDS = np.arange(len(SOURCE_TABLEFILES))\n",
    "\n",
    "REF_DIR = (150., 2.)   # RA, DEC in deg\n",
    "REGION_SIZE = (3., 3.) # in Deg\n",
    "CELL_SIZE = 1. / (3600*2) # in Deg = 0.5\"\n",
    "SUBREGION_SIZE = 1350 # in Pixels\n",
    "PIXEL_R2CUT = 1."
   ]
  },
  {
   "cell_type": "markdown",
   "id": "29ebecf0",
   "metadata": {},
   "source": [
    "### Construct a matcher object\n",
    "\n",
    "This will construct at WCS to grid a 3deg x 3deg region around ra=150, dec=2 at 5e-5 deg resolution\n",
    "\n",
    "It will also define a set of 1350 cell x 1350 cell sub-regions that will be analyzed independently"
   ]
  },
  {
   "cell_type": "code",
   "execution_count": 4,
   "id": "2a2985d4",
   "metadata": {},
   "outputs": [
    {
     "name": "stdout",
     "output_type": "stream",
     "text": [
      "[16. 16.]\n"
     ]
    }
   ],
   "source": [
    "nWay = NWayMatch.create(REF_DIR, REGION_SIZE, CELL_SIZE, pixelR2Cut=PIXEL_R2CUT, subRegionSize=SUBREGION_SIZE)\n",
    "print(nWay.nSubRegion)"
   ]
  },
  {
   "cell_type": "markdown",
   "id": "a3fd7e41",
   "metadata": {},
   "source": [
    "### Reduce the input data\n",
    "\n",
    "This will project the input data into the WCS constructed above"
   ]
  },
  {
   "cell_type": "code",
   "execution_count": 5,
   "id": "6444ae1e",
   "metadata": {},
   "outputs": [],
   "source": [
    "nWay.reduceData(SOURCE_TABLEFILES, VISIT_IDS)"
   ]
  },
  {
   "cell_type": "markdown",
   "id": "ce9ed699",
   "metadata": {},
   "source": [
    "### Analyze one of the sub-regions"
   ]
  },
  {
   "cell_type": "code",
   "execution_count": 6,
   "id": "e033efbd",
   "metadata": {
    "scrolled": true
   },
   "outputs": [],
   "source": [
    "oDict = nWay.analyzeSubregion(10, 10, True)"
   ]
  },
  {
   "cell_type": "code",
   "execution_count": 7,
   "id": "69f27f14",
   "metadata": {},
   "outputs": [],
   "source": [
    "srd = oDict['srd']\n",
    "cd = srd._clusterDict\n",
    "idx = 17009734\n",
    "image = oDict['image']\n",
    "cluster = cd[idx]"
   ]
  },
  {
   "cell_type": "code",
   "execution_count": 8,
   "id": "4f50e260",
   "metadata": {},
   "outputs": [],
   "source": [
    "srcIdx = np.hstack([df['sourceId'] for df in srd._data])"
   ]
  },
  {
   "cell_type": "markdown",
   "id": "e58a553e",
   "metadata": {},
   "source": [
    "### This function will draw a cluster\n",
    "\n",
    "The background image is the pixels used to do the cluster, the color scale \n",
    "shows the number of sources per pixel\n",
    "\n",
    "The blue dots in the foreground are the positions of the individual sources\n",
    "\n",
    "The red cross is the cluster centroid"
   ]
  },
  {
   "cell_type": "code",
   "execution_count": 9,
   "id": "4b23afa2",
   "metadata": {},
   "outputs": [],
   "source": [
    "def showCluster(img, cluster, srd, mask=None):\n",
    "    extent = (0, cluster._footprint.getBBox().getWidth(),\n",
    "              0, cluster._footprint.getBBox().getHeight())\n",
    "    cluster.extract(srd)\n",
    "    xOffset = srd._minCell[0] + cluster._footprint.getBBox().getBeginY()\n",
    "    yOffset = srd._minCell[1] + cluster._footprint.getBBox().getBeginX()\n",
    "    xOff = cluster.xCell - xOffset\n",
    "    yOff = cluster.yCell - yOffset\n",
    "    if mask is not None:\n",
    "        xOff = xOff[mask]\n",
    "        yOff = yOff[mask]\n",
    "    xC = cluster._xCent - xOffset\n",
    "    yC = cluster._yCent - yOffset\n",
    "    img = plt.imshow(image[cluster._footprint.getBBox()].array, origin='lower', extent=extent)\n",
    "    cb = plt.colorbar()\n",
    "    img.axes.scatter(yOff, xOff)\n",
    "    img.axes.scatter(yC, xC, marker='+', c='green')\n",
    "    return img.axes.figure"
   ]
  },
  {
   "cell_type": "markdown",
   "id": "c8e69ce7",
   "metadata": {},
   "source": [
    "### This function will draw a cluster and show the objects\n",
    "\n",
    "Same as above, expect the dots are color-coded to show how the cluster way broken down"
   ]
  },
  {
   "cell_type": "code",
   "execution_count": 10,
   "id": "775d2065",
   "metadata": {},
   "outputs": [],
   "source": [
    "def showObjects(img, cluster, srd):\n",
    "    extent = (0, cluster._footprint.getBBox().getWidth(),\n",
    "              0, cluster._footprint.getBBox().getHeight())\n",
    "    cluster.extract(srd)\n",
    "    xOffset = srd._minCell[0] + cluster._footprint.getBBox().getBeginY()\n",
    "    yOffset = srd._minCell[1] + cluster._footprint.getBBox().getBeginX()\n",
    "    xOff = cluster.xCell - xOffset\n",
    "    yOff = cluster.yCell - yOffset\n",
    "    img = plt.imshow(image[cluster._footprint.getBBox()].array, origin='lower', extent=extent)\n",
    "    cb = plt.colorbar()\n",
    "    colors = ['red', 'blue', 'green', 'cyan', 'orange', 'grey']\n",
    "    for iObj, obj in enumerate(cluster.objects):\n",
    "        xC = obj._xCent - xOffset\n",
    "        yC = obj._yCent - yOffset\n",
    "        img.axes.scatter(yOff[obj._mask], xOff[obj._mask], c=colors[iObj%6])\n",
    "        img.axes.scatter(yC, xC, marker='+', c=colors[iObj % 6])\n",
    "    return img.axes.figure"
   ]
  },
  {
   "cell_type": "code",
   "execution_count": 11,
   "id": "cb1c5fb0",
   "metadata": {},
   "outputs": [
    {
     "data": {
      "image/png": "[encoded data removed]",
      "text/plain": [
       "<Figure size 432x288 with 2 Axes>"
      ]
     },
     "metadata": {
      "needs_background": "light"
     },
     "output_type": "display_data"
    }
   ],
   "source": [
    "fig = showCluster(image, cluster, srd)"
   ]
  },
  {
   "cell_type": "markdown",
   "id": "e9bda0bc",
   "metadata": {},
   "source": [
    "#### Pull out the ids of clusters of particular types\n",
    "\n",
    "split -> at least one of the input catalogs seems to have split the source\n",
    "\n",
    "singleCell -> all the sources are in a single cell\n",
    "\n",
    "confused -> there are multiple sources from many input catalogs"
   ]
  },
  {
   "cell_type": "code",
   "execution_count": 12,
   "id": "9b828f43",
   "metadata": {},
   "outputs": [],
   "source": [
    "split = []\n",
    "for k, c in cd.items():\n",
    "    if c._nSrc == c._nUnique + 1:\n",
    "        split.append(k)"
   ]
  },
  {
   "cell_type": "code",
   "execution_count": 13,
   "id": "abff7667",
   "metadata": {},
   "outputs": [],
   "source": [
    "confused = []\n",
    "for k, c in cd.items():\n",
    "    if c._nSrc > c._nUnique + 4:\n",
    "        confused.append(k)"
   ]
  },
  {
   "cell_type": "code",
   "execution_count": 14,
   "id": "a5251707",
   "metadata": {},
   "outputs": [],
   "source": [
    "singleCell = []\n",
    "for k, c in cd.items():\n",
    "    if c._nSrc > 5 and c._footprint.getArea() == 1:\n",
    "        singleCell.append(k)"
   ]
  },
  {
   "cell_type": "code",
   "execution_count": 27,
   "id": "950da1b0",
   "metadata": {},
   "outputs": [],
   "source": [
    "twoCell = []\n",
    "for k, c in cd.items():\n",
    "    if c._nSrc > 5 and c._footprint.getArea() == 2:\n",
    "        twoCell.append(k)"
   ]
  },
  {
   "cell_type": "markdown",
   "id": "1faca62d",
   "metadata": {},
   "source": [
    "### Draw different types of clusters"
   ]
  },
  {
   "cell_type": "code",
   "execution_count": 31,
   "id": "5fde2aab",
   "metadata": {},
   "outputs": [
    {
     "data": {
      "image/png": "[encoded data removed]",
      "text/plain": [
       "<Figure size 432x288 with 2 Axes>"
      ]
     },
     "metadata": {
      "needs_background": "light"
     },
     "output_type": "display_data"
    }
   ],
   "source": [
    "figTwoCell = showCluster(image, cd[twoCell[2]], srd)"
   ]
  },
  {
   "cell_type": "markdown",
   "id": "ef2573f0",
   "metadata": {},
   "source": [
    "#### This is a simple split cluster"
   ]
  },
  {
   "cell_type": "code",
   "execution_count": 15,
   "id": "4bfc951f",
   "metadata": {},
   "outputs": [
    {
     "data": {
      "image/png": "[encoded data removed]",
      "text/plain": [
       "<Figure size 432x288 with 2 Axes>"
      ]
     },
     "metadata": {
      "needs_background": "light"
     },
     "output_type": "display_data"
    }
   ],
   "source": [
    "fig2 = showCluster(image, cd[split[4]], srd)"
   ]
  },
  {
   "cell_type": "code",
   "execution_count": 16,
   "id": "3f8fe426",
   "metadata": {},
   "outputs": [
    {
     "data": {
      "image/png": "[encoded data removed]",
      "text/plain": [
       "<Figure size 432x288 with 2 Axes>"
      ]
     },
     "metadata": {
      "needs_background": "light"
     },
     "output_type": "display_data"
    }
   ],
   "source": [
    "fig2_o = showObjects(image, cd[split[6]], srd)"
   ]
  },
  {
   "cell_type": "markdown",
   "id": "3fe68797",
   "metadata": {},
   "source": [
    "#### This is an ideal cluster, where all the sources are in a single cell"
   ]
  },
  {
   "cell_type": "code",
   "execution_count": 17,
   "id": "5915c08d",
   "metadata": {},
   "outputs": [
    {
     "data": {
      "image/png": "[encoded data removed]",
      "text/plain": [
       "<Figure size 432x288 with 2 Axes>"
      ]
     },
     "metadata": {
      "needs_background": "light"
     },
     "output_type": "display_data"
    }
   ],
   "source": [
    "fig3 = showCluster(image, cd[singleCell[0]], srd)"
   ]
  },
  {
   "cell_type": "markdown",
   "id": "2a3b18ef",
   "metadata": {},
   "source": [
    "#### This is a very confused cluster; several input catalog contribute more than one source"
   ]
  },
  {
   "cell_type": "code",
   "execution_count": 40,
   "id": "2a41ca2a",
   "metadata": {},
   "outputs": [
    {
     "data": {
      "image/png": "[encoded data removed]",
      "text/plain": [
       "<Figure size 432x288 with 2 Axes>"
      ]
     },
     "metadata": {
      "needs_background": "light"
     },
     "output_type": "display_data"
    }
   ],
   "source": [
    "fig4 = showCluster(image, cd[confused[7]], srd)"
   ]
  },
  {
   "cell_type": "code",
   "execution_count": 41,
   "id": "64cfa886",
   "metadata": {},
   "outputs": [
    {
     "data": {
      "image/png": "[encoded data removed]",
      "text/plain": [
       "<Figure size 432x288 with 2 Axes>"
      ]
     },
     "metadata": {
      "needs_background": "light"
     },
     "output_type": "display_data"
    }
   ],
   "source": [
    "fig4_o = showObjects(image, cd[confused[7]], srd)"
   ]
  },
  {
   "cell_type": "markdown",
   "id": "ca11f019",
   "metadata": {},
   "source": [
    "#### These are some functions to get assocations from the MulitMatch matching catalog"
   ]
  },
  {
   "cell_type": "code",
   "execution_count": 20,
   "id": "f3f10b93",
   "metadata": {},
   "outputs": [],
   "source": [
    "def getObjectId(assocTable, srcId, idField='id', objField='object'):\n",
    "    mask = assocTable[idField] == srcId\n",
    "    return assocTable[mask][objField].data"
   ]
  },
  {
   "cell_type": "code",
   "execution_count": 21,
   "id": "9de2f5e7",
   "metadata": {},
   "outputs": [],
   "source": [
    "def getSourceIds(assocTable, objId, idField='id', objField='object'):\n",
    "    mask = assocTable[objField] == objId\n",
    "    return assocTable[mask][idField].data"
   ]
  },
  {
   "cell_type": "code",
   "execution_count": 22,
   "id": "2066240b",
   "metadata": {},
   "outputs": [],
   "source": [
    "def getAssociatedSources(cluster, assocTable, idField='id', objField='object'):\n",
    "    matchObjs = np.unique(np.hstack([getObjectId(mAssoc, sId) for sId in cluster._sourceIds]))\n",
    "    sIds = [getSourceIds(assocTable, matchObj) for matchObj in matchObjs]\n",
    "    return sIds"
   ]
  },
  {
   "cell_type": "code",
   "execution_count": 23,
   "id": "7cfa1306",
   "metadata": {},
   "outputs": [],
   "source": [
    "def showAssociatedObjects(img, cluster, srd, assocTable):\n",
    "    extent = (0, cluster._footprint.getBBox().getWidth(),\n",
    "              0, cluster._footprint.getBBox().getHeight())\n",
    "    cluster.extract(srd)\n",
    "    xOffset = srd._minCell[0] + cluster._footprint.getBBox().getBeginY()\n",
    "    yOffset = srd._minCell[1] + cluster._footprint.getBBox().getBeginX()\n",
    "    xOff = cluster.xCell - xOffset\n",
    "    yOff = cluster.yCell - yOffset\n",
    "    img = plt.imshow(image[cluster._footprint.getBBox()].array, origin='lower', extent=extent)\n",
    "    cb = plt.colorbar()\n",
    "    colors = ['red', 'blue', 'green', 'cyan', 'orange', 'grey']\n",
    "    sIds = getAssociatedSources(cluster, mAssoc)\n",
    "    for iObj, obj in enumerate(sIds):\n",
    "        mask = np.in1d(cluster._sourceIds, obj)\n",
    "        img.axes.scatter(yOff[mask], xOff[mask], c=colors[iObj%6])\n",
    "    return img.axes.figure"
   ]
  },
  {
   "cell_type": "markdown",
   "id": "b529262b",
   "metadata": {},
   "source": [
    "#### Read the multimatch matching catalog"
   ]
  },
  {
   "cell_type": "code",
   "execution_count": 24,
   "id": "c1083297",
   "metadata": {},
   "outputs": [],
   "source": [
    "from astropy.table import Table\n",
    "mAssoc = Table.read('matchCat.fits')"
   ]
  },
  {
   "cell_type": "markdown",
   "id": "9177318f",
   "metadata": {},
   "source": [
    "#### Compare results\n",
    "\n",
    "Here we show the results of the NWayMatch and then we take all of the input sources add look for associations in the\n",
    "MultiMatch catalog.  Note that many of the sources do not have any matches in the MultiMatch catalog.  This is b/c the \"ambiguous\" sources are being removed. "
   ]
  },
  {
   "cell_type": "code",
   "execution_count": 25,
   "id": "b5f98d1c",
   "metadata": {},
   "outputs": [
    {
     "data": {
      "image/png": "[encoded data removed]",
      "text/plain": [
       "<Figure size 432x288 with 2 Axes>"
      ]
     },
     "metadata": {
      "needs_background": "light"
     },
     "output_type": "display_data"
    }
   ],
   "source": [
    "fig5_o = showObjects(image, cd[confused[7]], srd)"
   ]
  },
  {
   "cell_type": "code",
   "execution_count": 43,
   "id": "e47969d6",
   "metadata": {},
   "outputs": [
    {
     "data": {
      "image/png": "[encoded data removed]",
      "text/plain": [
       "<Figure size 432x288 with 2 Axes>"
      ]
     },
     "metadata": {
      "needs_background": "light"
     },
     "output_type": "display_data"
    }
   ],
   "source": [
    "fig5_o = showAssociatedObjects(image, cd[split[6]], srd, mAssoc)"
   ]
  },
  {
   "cell_type": "code",
   "execution_count": null,
   "id": "a6f3f3f6",
   "metadata": {},
   "outputs": [],
   "source": []
  }
 ],
 "metadata": {
  "kernelspec": {
   "display_name": "Python 3",
   "language": "python",
   "name": "python3"
  },
  "language_info": {
   "codemirror_mode": {
    "name": "ipython",
    "version": 3
   },
   "file_extension": ".py",
   "mimetype": "text/x-python",
   "name": "python",
   "nbconvert_exporter": "python",
   "pygments_lexer": "ipython3",
   "version": "3.8.8"
  }
 },
 "nbformat": 4,
 "nbformat_minor": 5
}
