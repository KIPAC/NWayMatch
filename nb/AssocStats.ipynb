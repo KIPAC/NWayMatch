{
 "cells": [
  {
   "cell_type": "markdown",
   "id": "5334840a",
   "metadata": {},
   "source": [
    "# Comparision between MultiMatch and NWayMatch\n",
    "\n",
    "MultiMatch is the current default Multi-catalog matcher in the Rubin DM stack.  It performs a series\n",
    "of two-way catalog matches, updating the reference catalog as it goes.\n",
    "\n",
    "NWayMatch is a simple proof-of-concept for multi-catalog matching.\n",
    "Rather than do a series of 2-way matches, it clusters sources and then resolves\n",
    "the cluster membership to ensure that each input catalog only contributes at most\n",
    "one source to any given \"object\".\n",
    "\n",
    "This example assumes that you:\n",
    "\n",
    "    1. Have downloaded the data here:  https://lsst.ncsa.illinois.edu/~yusra/nway-matcher/\n",
    "    2. Are running from the directory you download the data into.\n",
    "    3. Have run MultiMatch on those data (using multiMatch.py to generate matchCat.fits)\n",
    "    4. Have run NWayMatch on those data (using nway.py to generate out.fits)"
   ]
  },
  {
   "cell_type": "code",
   "execution_count": 1,
   "id": "60918b94",
   "metadata": {},
   "outputs": [],
   "source": [
    "%matplotlib inline\n",
    "import matplotlib.pyplot as plt\n",
    "import matplotlib.colors as colors"
   ]
  },
  {
   "cell_type": "code",
   "execution_count": 2,
   "id": "b56436d9",
   "metadata": {},
   "outputs": [],
   "source": [
    "import numpy as np\n",
    "from astropy import table\n",
    "from astropy.table import Table"
   ]
  },
  {
   "cell_type": "markdown",
   "id": "2a252a44",
   "metadata": {},
   "source": [
    "#### Read the input tables"
   ]
  },
  {
   "cell_type": "code",
   "execution_count": 21,
   "id": "87504966",
   "metadata": {},
   "outputs": [],
   "source": [
    "cAssoc = Table.read('out.fits', hdu=1)\n",
    "oAssoc = Table.read('out.fits', hdu=2)\n",
    "cStats = Table.read('out.fits', hdu=3)\n",
    "oStats = Table.read('out.fits', hdu=4)\n",
    "mAssoc = Table.read('matchCat.fits')"
   ]
  },
  {
   "cell_type": "code",
   "execution_count": 35,
   "id": "5ce79e7d",
   "metadata": {},
   "outputs": [
    {
     "data": {
      "text/plain": [
       "64065"
      ]
     },
     "execution_count": 35,
     "metadata": {},
     "output_type": "execute_result"
    }
   ],
   "source": [
    "(cStats['nObject'] != 1).sum()"
   ]
  },
  {
   "cell_type": "code",
   "execution_count": 26,
   "id": "8b46a7d6",
   "metadata": {},
   "outputs": [
    {
     "name": "stdout",
     "output_type": "stream",
     "text": [
      "1050857\n",
      "462058\n",
      "910162\n",
      "367735\n"
     ]
    }
   ],
   "source": [
    "print(len(oStats))\n",
    "print((oStats['nSrcs'] == 1).sum())\n",
    "print(len(cStats))\n",
    "print((cStats['nSrcs'] == 1).sum())"
   ]
  },
  {
   "cell_type": "markdown",
   "id": "c2cdba66",
   "metadata": {},
   "source": [
    "#### Quick check on the input tables.\n",
    "\n",
    "Note that there are 8636020 total sources in the input catalogs.\n",
    "\n",
    "Right away we see that MultiMatch is leaving some sources unassociated.  This is\n",
    "actually b/c of the way that it is removing 'ambiguities', i.e., cases were we\n",
    "have multiple sources from a single catalog inside the matching radius."
   ]
  },
  {
   "cell_type": "code",
   "execution_count": 4,
   "id": "42148cf7",
   "metadata": {},
   "outputs": [
    {
     "name": "stdout",
     "output_type": "stream",
     "text": [
      "Total number of sources assocaited to NWayMatch Clusters: 8636020\n",
      "Total number of sources assocaited to NWayMatch Objects: 8636020\n",
      "Total number of sources assocaited to MutliMatch Objects: 7923128\n"
     ]
    }
   ],
   "source": [
    "print(\"Total number of sources assocaited to NWayMatch Clusters: %i\" % len(cAssoc))\n",
    "print(\"Total number of sources assocaited to NWayMatch Objects: %i\" % len(oAssoc))\n",
    "print(\"Total number of sources assocaited to MutliMatch Objects: %i\" % len(mAssoc))"
   ]
  },
  {
   "cell_type": "markdown",
   "id": "8bf50dca",
   "metadata": {},
   "source": [
    "#### Lets look at the number of sources per cluster and per object in NWayMatch"
   ]
  },
  {
   "cell_type": "code",
   "execution_count": 5,
   "id": "e631e602",
   "metadata": {},
   "outputs": [
    {
     "data": {
      "image/png": "[encoded data removed]",
      "text/plain": [
       "<Figure size 432x288 with 1 Axes>"
      ]
     },
     "metadata": {
      "needs_background": "light"
     },
     "output_type": "display_data"
    }
   ],
   "source": [
    "# This is the number of source per cluster.   The high-end tail depends on the cell size\n",
    "_ = plt.hist(cStats['nSrcs'], bins=np.linspace(0.5, 90.5, 91))\n",
    "plt.yscale('log')"
   ]
  },
  {
   "cell_type": "code",
   "execution_count": 7,
   "id": "04d827ca",
   "metadata": {},
   "outputs": [
    {
     "data": {
      "image/png": "[encoded data removed]",
      "text/plain": [
       "<Figure size 432x288 with 1 Axes>"
      ]
     },
     "metadata": {
      "needs_background": "light"
     },
     "output_type": "display_data"
    }
   ],
   "source": [
    "# This is the number of sources per object.  It can not exceed the number of input catalogs\n",
    "_ = plt.hist(oStats['nSrcs'], bins=np.linspace(0.5, 35.5, 36))\n",
    "plt.yscale('log')"
   ]
  },
  {
   "cell_type": "markdown",
   "id": "0d10492d",
   "metadata": {},
   "source": [
    "### Now lets compare the number of sources per object from MultiMatch.\n",
    "\n",
    "We see that NWayMatch is giving slightly more associations.  Again, this is b/c of the\n",
    "associations that have been removed."
   ]
  },
  {
   "cell_type": "code",
   "execution_count": 9,
   "id": "cef4a887",
   "metadata": {},
   "outputs": [
    {
     "data": {
      "image/png": "[encoded data removed]",
      "text/plain": [
       "<Figure size 432x288 with 1 Axes>"
      ]
     },
     "metadata": {
      "needs_background": "light"
     },
     "output_type": "display_data"
    }
   ],
   "source": [
    "# This is the number of sources per object\n",
    "# We are using np.bincount to count the number of times a given object id occurs in the association catalog\n",
    "_ = plt.hist(oStats['nSrcs'], bins=np.linspace(0.5, 35.5, 36))\n",
    "_ = plt.hist(np.bincount(mAssoc['object']), bins=np.linspace(0.5, 35.5, 36))\n",
    "plt.yscale('log')"
   ]
  },
  {
   "cell_type": "markdown",
   "id": "22970b08",
   "metadata": {},
   "source": [
    "### Now let's make vectors that keep track of how sources are in each object\n",
    "\n",
    "    srcCountC -> Number of sources in each cluster\n",
    "    srcCountO -> Number of sources in each NWayMatch object\n",
    "    srcCountM -> Number of sources in each MultiMatch object"
   ]
  },
  {
   "cell_type": "code",
   "execution_count": 10,
   "id": "ad404e14",
   "metadata": {},
   "outputs": [],
   "source": [
    "srcCountC = np.bincount(cAssoc['object'])\n",
    "srcCountM = np.bincount(mAssoc['object'])\n",
    "srcCountO = np.bincount(oAssoc['object'])"
   ]
  },
  {
   "cell_type": "markdown",
   "id": "868001f8",
   "metadata": {},
   "source": [
    "#### Now let's join the tables, using the 'id' column as the matching key\n",
    "\n",
    "This could take about a minute"
   ]
  },
  {
   "cell_type": "code",
   "execution_count": 11,
   "id": "1ea125ff",
   "metadata": {},
   "outputs": [],
   "source": [
    "jj = table.join(oAssoc, mAssoc, join_type='outer', keys='id')"
   ]
  },
  {
   "cell_type": "code",
   "execution_count": 12,
   "id": "724203ad",
   "metadata": {},
   "outputs": [],
   "source": [
    "jc = table.join(cAssoc, mAssoc, join_type='outer', keys='id')"
   ]
  },
  {
   "cell_type": "markdown",
   "id": "05c51ab3",
   "metadata": {},
   "source": [
    "#### Now we can get parallel arrays, with the number of sources associated to each input source\n",
    "\n",
    "    mo -> number of sources in the associated NWayMatch Object\n",
    "    mc -> number of sources in the associated NWayMatch Cluster\n",
    "    mm -> number of sources in the associated MultiMatch Object"
   ]
  },
  {
   "cell_type": "code",
   "execution_count": 13,
   "id": "0d531b5e",
   "metadata": {},
   "outputs": [],
   "source": [
    "mo = srcCountO[jj['object_1'].data]\n",
    "mc = srcCountC[jc['object_1'].data]\n",
    "mm = np.where(jj['object_2'].data.mask, 0, srcCountM[jj['object_2'].data])\n",
    "mask = mo != mm\n",
    "mask2 = mc != mm"
   ]
  },
  {
   "cell_type": "markdown",
   "id": "b94f9535",
   "metadata": {},
   "source": [
    "Make a density plot of the number of sources in the NWayMatch cluster versus the number of associated sources in MultiMatch.   Note that the Clusters can have many more sources than the MultiMatch objects.  If the same matching radius is used, and is the same as the cell size, there should never be fewer sources in a cluster than in a MultiMatch object.  "
   ]
  },
  {
   "cell_type": "code",
   "execution_count": 14,
   "id": "690cd81e",
   "metadata": {},
   "outputs": [
    {
     "data": {
      "image/png": "[encoded data removed]",
      "text/plain": [
       "<Figure size 432x288 with 2 Axes>"
      ]
     },
     "metadata": {
      "needs_background": "light"
     },
     "output_type": "display_data"
    }
   ],
   "source": [
    "norm=colors.LogNorm(vmin=0.9, vmax=1e5)\n",
    "oo = plt.hist2d(mm[mask2], mc[mask2], bins=[np.linspace(-0.5, 33.5, 35), np.linspace(-0.5, 100.5, 102)], norm=norm)\n",
    "cb = plt.colorbar()\n",
    "_ = plt.xlabel(\"Associated Sources (Multi-Match)\")\n",
    "_ = plt.ylabel(\"Assocaited Sources (Clustering)\")"
   ]
  },
  {
   "cell_type": "markdown",
   "id": "40af8016",
   "metadata": {},
   "source": [
    "Make a density plot of the number of sources in the NWayMatch objects versus the number of associated sources in MultiMatch.   Note that feature where nSrcMultiMatch == 0.  These are sources that have had all their associated removed b/c of ambiguities."
   ]
  },
  {
   "cell_type": "code",
   "execution_count": 15,
   "id": "7742580d",
   "metadata": {},
   "outputs": [
    {
     "data": {
      "image/png": "[encoded data removed]",
      "text/plain": [
       "<Figure size 432x288 with 2 Axes>"
      ]
     },
     "metadata": {
      "needs_background": "light"
     },
     "output_type": "display_data"
    }
   ],
   "source": [
    "norm=colors.LogNorm(vmin=0.9, vmax=1e5)\n",
    "oo = plt.hist2d(mm[mask], mo[mask], bins=[np.linspace(-0.5, 33.5, 35), np.linspace(-0.5, 33.5, 35)], norm=norm)\n",
    "cb = plt.colorbar()\n",
    "_ = plt.xlabel(\"Associated Sources (MultiMatch)\")\n",
    "_ = plt.ylabel(\"Assocaited Sources (NWayMatch)\")"
   ]
  },
  {
   "cell_type": "markdown",
   "id": "0b699bc9",
   "metadata": {},
   "source": [
    "Now let's make a histogram of the difference in the number of sources\n",
    "associated to any given source.  (I.e,. there is one entry per source, and the\n",
    "x-axis value is the difference in the number of associated sources as found\n",
    "by MultiMatch and NWayMatch)  "
   ]
  },
  {
   "cell_type": "code",
   "execution_count": 16,
   "id": "1920877a",
   "metadata": {},
   "outputs": [
    {
     "data": {
      "image/png": "[encoded data removed]",
      "text/plain": [
       "<Figure size 432x288 with 1 Axes>"
      ]
     },
     "metadata": {
      "needs_background": "light"
     },
     "output_type": "display_data"
    }
   ],
   "source": [
    "plt.yscale('log')\n",
    "_ = plt.hist(mm-mo, bins=np.linspace(-33.5, 33.5, 68))\n",
    "_ = plt.xlabel(r\"$n_{\\rm assoc, mm} - n_{\\rm assoc, nw}$\")"
   ]
  },
  {
   "cell_type": "markdown",
   "id": "2fbd0e8d",
   "metadata": {},
   "source": [
    "Now let's make a histogram of the difference in the number of sources\n",
    "associated to a cluster as compared to the number associated to a MultiMatch\n",
    "object.  Really this is just telling us about the cell size and the number of\n",
    "sources inside the matching radius."
   ]
  },
  {
   "cell_type": "code",
   "execution_count": 17,
   "id": "794f7050",
   "metadata": {},
   "outputs": [
    {
     "data": {
      "image/png": "[encoded data removed]",
      "text/plain": [
       "<Figure size 432x288 with 1 Axes>"
      ]
     },
     "metadata": {
      "needs_background": "light"
     },
     "output_type": "display_data"
    }
   ],
   "source": [
    "plt.yscale('log')\n",
    "_ = plt.hist(mm[mask2]-mc[mask2], bins=np.linspace(-66.5, 33.5, 101))"
   ]
  },
  {
   "cell_type": "code",
   "execution_count": null,
   "id": "9b1d8abb",
   "metadata": {},
   "outputs": [],
   "source": []
  }
 ],
 "metadata": {
  "kernelspec": {
   "display_name": "Python 3",
   "language": "python",
   "name": "python3"
  },
  "language_info": {
   "codemirror_mode": {
    "name": "ipython",
    "version": 3
   },
   "file_extension": ".py",
   "mimetype": "text/x-python",
   "name": "python",
   "nbconvert_exporter": "python",
   "pygments_lexer": "ipython3",
   "version": "3.8.8"
  }
 },
 "nbformat": 4,
 "nbformat_minor": 5
}
